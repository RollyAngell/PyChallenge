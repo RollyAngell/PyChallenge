{
 "cells": [
  {
   "cell_type": "code",
   "execution_count": 2,
   "metadata": {},
   "outputs": [],
   "source": [
    "import insert\n",
    "import read\n",
    "import update\n",
    "import delete"
   ]
  },
  {
   "cell_type": "code",
   "execution_count": 3,
   "metadata": {},
   "outputs": [],
   "source": [
    "class Programa:\n",
    "    def __init__(self):\n",
    "        self.dato = 1\n",
    "    def menu(self):\n",
    "        while self.dato:\n",
    "            #Choosing option to do CRUD operations\n",
    "            selection = input('\\nSelect 1 to insert, 2 to update, 3 to read, 4 to delete\\n')\n",
    "            \n",
    "            if selection == '1':\n",
    "                insert.insert()\n",
    "            elif selection == '2':\n",
    "                update.update()\n",
    "            elif selection == '3':\n",
    "                read.read()\n",
    "            elif selection == '4':\n",
    "                delete.delete()\n",
    "            else:\n",
    "                print('\\n INVALID SELECTION \\n')"
   ]
  },
  {
   "cell_type": "code",
   "execution_count": null,
   "metadata": {},
   "outputs": [],
   "source": [
    "persosona1 = Programa()\n",
    "persosona1.menu()"
   ]
  },
  {
   "cell_type": "code",
   "execution_count": null,
   "metadata": {},
   "outputs": [],
   "source": []
  }
 ],
 "metadata": {
  "kernelspec": {
   "display_name": "Python 3",
   "language": "python",
   "name": "python3"
  },
  "language_info": {
   "codemirror_mode": {
    "name": "ipython",
    "version": 3
   },
   "file_extension": ".py",
   "mimetype": "text/x-python",
   "name": "python",
   "nbconvert_exporter": "python",
   "pygments_lexer": "ipython3",
   "version": "3.5.5"
  }
 },
 "nbformat": 4,
 "nbformat_minor": 2
}
