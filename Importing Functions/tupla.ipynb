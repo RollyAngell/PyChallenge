{
 "cells": [
  {
   "cell_type": "code",
   "execution_count": 1,
   "metadata": {},
   "outputs": [],
   "source": [
    "def cargar_fecha():\n",
    "    dd=int(input(\"Ingrese numero de dia: \"))\n",
    "    mm=int(input(\"Ingrese numero de mes: \"))\n",
    "    aa=int(input(\"Ingrese numero de ano: \"))\n",
    "    fecha = (dd, mm, aa)\n",
    "    return fecha"
   ]
  },
  {
   "cell_type": "code",
   "execution_count": 2,
   "metadata": {},
   "outputs": [],
   "source": [
    "def imprimir_fecha(fe):\n",
    "    print(fe[0], fe[1], fe[2], sep=\"/\")"
   ]
  },
  {
   "cell_type": "code",
   "execution_count": 3,
   "metadata": {},
   "outputs": [
    {
     "name": "stdout",
     "output_type": "stream",
     "text": [
      "Ingrese numero de dia: 5\n",
      "Ingrese numero de mes: 8\n",
      "Ingrese numero de ano: 2017\n"
     ]
    }
   ],
   "source": [
    "fe = cargar_fecha()"
   ]
  },
  {
   "cell_type": "code",
   "execution_count": 10,
   "metadata": {},
   "outputs": [
    {
     "name": "stdout",
     "output_type": "stream",
     "text": [
      "5/8/2017\n"
     ]
    }
   ],
   "source": [
    "imprimir_fecha(fe)"
   ]
  }
 ],
 "metadata": {
  "kernelspec": {
   "display_name": "Python 3",
   "language": "python",
   "name": "python3"
  },
  "language_info": {
   "codemirror_mode": {
    "name": "ipython",
    "version": 3
   },
   "file_extension": ".py",
   "mimetype": "text/x-python",
   "name": "python",
   "nbconvert_exporter": "python",
   "pygments_lexer": "ipython3",
   "version": "3.5.5"
  }
 },
 "nbformat": 4,
 "nbformat_minor": 2
}
